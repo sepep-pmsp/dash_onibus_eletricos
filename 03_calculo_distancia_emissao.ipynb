{
 "cells": [
  {
   "cell_type": "markdown",
   "id": "5fb500a7",
   "metadata": {},
   "source": [
    "## Cálculo da emissão e distância percorrida "
   ]
  },
  {
   "cell_type": "markdown",
   "id": "0216af6c",
   "metadata": {},
   "source": [
    "Nesse notebook é calculada a distância percorrida entre os pontos e a emissão de poluentes"
   ]
  },
  {
   "cell_type": "code",
   "execution_count": 1,
   "id": "45a40774",
   "metadata": {},
   "outputs": [],
   "source": [
    "import pandas as pd\n",
    "import random\n",
    "import numpy as np\n",
    "import random\n",
    "from utils.save_csv import save_csv\n",
    "from utils.load_csv import load_csv\n",
    "from datetime import datetime"
   ]
  },
  {
   "cell_type": "code",
   "execution_count": 2,
   "id": "3b621803",
   "metadata": {},
   "outputs": [],
   "source": [
    "consumo_diesel = load_csv('consumo_diesel.csv')\n",
    "\n",
    "veiculos = load_csv('veiculos.csv')\n",
    "\n",
    "df_posicoes = load_csv('df_posicoes.csv')"
   ]
  },
  {
   "cell_type": "code",
   "execution_count": 3,
   "id": "47d06970",
   "metadata": {},
   "outputs": [],
   "source": [
    "consumo_diesel['emissa_no2_l_diesel'] = [random.uniform(0.02, 0.05) for _ in range(len(consumo_diesel))]\n",
    "\n",
    "consumo_diesel['emissa_co2_l_diesel'] = [random.uniform(0.05, 0.1) for _ in range(len(consumo_diesel))]"
   ]
  },
  {
   "cell_type": "code",
   "execution_count": 4,
   "id": "10859206",
   "metadata": {},
   "outputs": [],
   "source": [
    "def get_tipo_onibus(id_onibus):\n",
    "\n",
    "    onibus = df_posicoes[df_posicoes['id_onibus']==id_onibus]\n",
    "\n",
    "    return onibus['modelo'].unique()[0]"
   ]
  },
  {
   "cell_type": "code",
   "execution_count": 5,
   "id": "a60b7e4d",
   "metadata": {},
   "outputs": [],
   "source": [
    "def get_fator_consumo(tipo_veiculo):\n",
    "\n",
    "    cosumo_modelo = consumo_diesel[consumo_diesel['tecnologia']==tipo_veiculo]\n",
    "\n",
    "    return cosumo_modelo['com_ar_l_km'].unique()[0]\n",
    "\n",
    "def get_consumo_co2(tipo_veiculo, km_rodados):\n",
    "\n",
    "    consumo_l = get_fator_consumo(tipo_veiculo)\n",
    "    consumo_fato = consumo_l * km_rodados\n",
    "\n",
    "    fator_emissao_modelo = consumo_diesel[consumo_diesel['tecnologia']==tipo_veiculo]\n",
    "    fator_emissao_co2_modelo = fator_emissao_modelo['emissa_co2_l_diesel'].unique()[0]\n",
    "    emissao_co2 = fator_emissao_co2_modelo * consumo_fato\n",
    "\n",
    "    return emissao_co2\n",
    "\n",
    "def get_consumo_no2(tipo_veiculo, km_rodados):\n",
    "\n",
    "    consumo_l = get_fator_consumo(tipo_veiculo)\n",
    "    consumo_fato = consumo_l * km_rodados\n",
    "\n",
    "    fator_emissao_modelo = consumo_diesel[consumo_diesel['tecnologia']==tipo_veiculo]\n",
    "    fator_emissao_no2_modelo = fator_emissao_modelo['emissa_no2_l_diesel'].unique()[0]\n",
    "    emissao_no2 = fator_emissao_no2_modelo * consumo_fato\n",
    "\n",
    "    return emissao_no2"
   ]
  },
  {
   "cell_type": "code",
   "execution_count": 6,
   "id": "cbb17c1f",
   "metadata": {},
   "outputs": [
    {
     "data": {
      "text/html": [
       "<div>\n",
       "<style scoped>\n",
       "    .dataframe tbody tr th:only-of-type {\n",
       "        vertical-align: middle;\n",
       "    }\n",
       "\n",
       "    .dataframe tbody tr th {\n",
       "        vertical-align: top;\n",
       "    }\n",
       "\n",
       "    .dataframe thead th {\n",
       "        text-align: right;\n",
       "    }\n",
       "</style>\n",
       "<table border=\"1\" class=\"dataframe\">\n",
       "  <thead>\n",
       "    <tr style=\"text-align: right;\">\n",
       "      <th></th>\n",
       "      <th>linha</th>\n",
       "      <th>id_onibus</th>\n",
       "      <th>timestamp</th>\n",
       "      <th>lat</th>\n",
       "      <th>lon</th>\n",
       "      <th>is_eletrico</th>\n",
       "      <th>modelo</th>\n",
       "    </tr>\n",
       "  </thead>\n",
       "  <tbody>\n",
       "    <tr>\n",
       "      <th>0</th>\n",
       "      <td>648P-10</td>\n",
       "      <td>71429</td>\n",
       "      <td>2025-08-29T12:17:58Z</td>\n",
       "      <td>-23.654854</td>\n",
       "      <td>-46.760556</td>\n",
       "      <td>True</td>\n",
       "      <td>Básico</td>\n",
       "    </tr>\n",
       "    <tr>\n",
       "      <th>1</th>\n",
       "      <td>648P-10</td>\n",
       "      <td>71246</td>\n",
       "      <td>2025-08-29T12:17:47Z</td>\n",
       "      <td>-23.626433</td>\n",
       "      <td>-46.705596</td>\n",
       "      <td>False</td>\n",
       "      <td>Biarticulado</td>\n",
       "    </tr>\n",
       "    <tr>\n",
       "      <th>2</th>\n",
       "      <td>648P-10</td>\n",
       "      <td>71277</td>\n",
       "      <td>2025-08-29T12:17:37Z</td>\n",
       "      <td>-23.579963</td>\n",
       "      <td>-46.685155</td>\n",
       "      <td>False</td>\n",
       "      <td>Articulado (18m)</td>\n",
       "    </tr>\n",
       "    <tr>\n",
       "      <th>3</th>\n",
       "      <td>648P-10</td>\n",
       "      <td>71251</td>\n",
       "      <td>2025-08-29T12:17:20Z</td>\n",
       "      <td>-23.590813</td>\n",
       "      <td>-46.688640</td>\n",
       "      <td>False</td>\n",
       "      <td>Articulado (23m)</td>\n",
       "    </tr>\n",
       "    <tr>\n",
       "      <th>4</th>\n",
       "      <td>702C-10</td>\n",
       "      <td>81310</td>\n",
       "      <td>2025-08-29T12:17:29Z</td>\n",
       "      <td>-23.580592</td>\n",
       "      <td>-46.736508</td>\n",
       "      <td>True</td>\n",
       "      <td>Biarticulado</td>\n",
       "    </tr>\n",
       "  </tbody>\n",
       "</table>\n",
       "</div>"
      ],
      "text/plain": [
       "     linha  id_onibus             timestamp        lat        lon  \\\n",
       "0  648P-10      71429  2025-08-29T12:17:58Z -23.654854 -46.760556   \n",
       "1  648P-10      71246  2025-08-29T12:17:47Z -23.626433 -46.705596   \n",
       "2  648P-10      71277  2025-08-29T12:17:37Z -23.579963 -46.685155   \n",
       "3  648P-10      71251  2025-08-29T12:17:20Z -23.590813 -46.688640   \n",
       "4  702C-10      81310  2025-08-29T12:17:29Z -23.580592 -46.736508   \n",
       "\n",
       "   is_eletrico            modelo  \n",
       "0         True            Básico  \n",
       "1        False      Biarticulado  \n",
       "2        False  Articulado (18m)  \n",
       "3        False  Articulado (23m)  \n",
       "4         True      Biarticulado  "
      ]
     },
     "execution_count": 6,
     "metadata": {},
     "output_type": "execute_result"
    }
   ],
   "source": [
    "df_posicoes.head()"
   ]
  },
  {
   "cell_type": "code",
   "execution_count": 7,
   "id": "e2100816",
   "metadata": {},
   "outputs": [
    {
     "data": {
      "text/plain": [
       "linha           object\n",
       "id_onibus        int64\n",
       "timestamp       object\n",
       "lat            float64\n",
       "lon            float64\n",
       "is_eletrico       bool\n",
       "modelo          object\n",
       "dtype: object"
      ]
     },
     "execution_count": 7,
     "metadata": {},
     "output_type": "execute_result"
    }
   ],
   "source": [
    "df_posicoes.dtypes"
   ]
  },
  {
   "cell_type": "code",
   "execution_count": 8,
   "id": "2d93b0d5",
   "metadata": {},
   "outputs": [
    {
     "data": {
      "text/plain": [
       "(156531, 7)"
      ]
     },
     "execution_count": 8,
     "metadata": {},
     "output_type": "execute_result"
    }
   ],
   "source": [
    "df_posicoes.shape"
   ]
  },
  {
   "cell_type": "code",
   "execution_count": 9,
   "id": "527a102f",
   "metadata": {},
   "outputs": [],
   "source": [
    "df_posicoes['timestamp'] = pd.to_datetime(df_posicoes['timestamp'])"
   ]
  },
  {
   "cell_type": "code",
   "execution_count": 10,
   "id": "b17cb72a",
   "metadata": {},
   "outputs": [
    {
     "data": {
      "text/plain": [
       "11307"
      ]
     },
     "execution_count": 10,
     "metadata": {},
     "output_type": "execute_result"
    }
   ],
   "source": [
    "df_posicoes['id_onibus'].nunique()"
   ]
  },
  {
   "cell_type": "code",
   "execution_count": 11,
   "id": "d33fa835",
   "metadata": {},
   "outputs": [],
   "source": [
    "data_frame = []\n",
    "\n",
    "for id_onibus in df_posicoes['id_onibus'].unique():\n",
    "    df_onibus = df_posicoes[df_posicoes['id_onibus'] == id_onibus].reset_index(drop=True)\n",
    "    df_onibus.sort_values(by='timestamp', inplace=True)\n",
    "    for i, row in df_onibus.iterrows():\n",
    " \n",
    "        if i < len(df_onibus)-1:\n",
    "            x_atual = row['lon']\n",
    "            x_depois = df_onibus.loc[i+1, 'lon']\n",
    "            y_atual = row['lat']\n",
    "            y_depois = df_onibus.loc[i+1, 'lat']\n",
    "            momento_inicial = row['timestamp']\n",
    "            momento_final = df_onibus.loc[i+1, 'timestamp']\n",
    "            tipo_veiculo = get_tipo_onibus(row['id_onibus'])\n",
    "            litro_diesel = get_fator_consumo(tipo_veiculo)\n",
    "            \n",
    "            #reprojetar SIRGAS 2000\n",
    "            dist = np.sqrt((x_depois - x_atual)**2 + (y_depois - y_atual)**2)\n",
    "            \n",
    "            dados = {\n",
    "                'id_onibus' : row['id_onibus'],\n",
    "                'distancia_percorrida' : dist,\n",
    "                'ponto_inicial' : [x_atual, y_atual],\n",
    "                'ponto_final' : [x_depois, y_depois],\n",
    "                'momento_inicial' : momento_inicial,\n",
    "                'momento_final' : momento_final,\n",
    "                'modelo' : tipo_veiculo,\n",
    "                'litro_diesel_km' : litro_diesel,\n",
    "                'emissao_no2' : get_consumo_no2(tipo_veiculo, dist),\n",
    "                'emissao_co2' : get_consumo_co2(tipo_veiculo, dist)\n",
    "            }\n",
    "\n",
    "            data_frame.append(dados)\n",
    "\n",
    "df_final = pd.DataFrame(data_frame)"
   ]
  },
  {
   "cell_type": "code",
   "execution_count": 12,
   "id": "dc83e896",
   "metadata": {},
   "outputs": [],
   "source": [
    "df_final = df_final.merge(\n",
    "    veiculos[['id_veiculo', 'eletrico']],\n",
    "    left_on='id_onibus',\n",
    "    right_on='id_veiculo',\n",
    "    how='left').drop(columns='id_veiculo')"
   ]
  },
  {
   "cell_type": "code",
   "execution_count": 13,
   "id": "dbbb981f",
   "metadata": {},
   "outputs": [],
   "source": [
    "df_final['is_eletrico'] = [random.choice([True, False]) for i in range(len(df_final))]"
   ]
  },
  {
   "cell_type": "code",
   "execution_count": 14,
   "id": "fad4f8c2",
   "metadata": {},
   "outputs": [],
   "source": [
    "dados_trips_layer = []\n",
    "\n",
    "for onibus in df_final['id_onibus'].unique():\n",
    "\n",
    "    df_onibus = df_final[df_final['id_onibus'] == onibus].reset_index(drop=True)\n",
    "    coordinates = []\n",
    "    timestamps = []\n",
    "    emissao_total = 0\n",
    "    df_onibus.sort_values(by='momento_inicial', inplace=True)\n",
    "    for i, row in df_onibus.iterrows():\n",
    "        coordinates.append(row['ponto_inicial'])\n",
    "        stamp = datetime.fromisoformat(row['momento_inicial'].isoformat())\n",
    "        timestamps.append(stamp)\n",
    "        emissao_total += row['emissao_co2']\n",
    "\n",
    "    dados_trips_layer.append({\n",
    "        'id_onibus': onibus,\n",
    "        'emissao_co2': emissao_total,\n",
    "        'eletrico': row['eletrico'],\n",
    "        'coordinates' : coordinates,\n",
    "        'timestamps' : timestamps\n",
    "    })\n",
    "\n",
    "\n",
    "df_trips = pd.DataFrame(dados_trips_layer)"
   ]
  },
  {
   "cell_type": "code",
   "execution_count": 15,
   "id": "2e43c6fa",
   "metadata": {},
   "outputs": [],
   "source": [
    "def init_on_zero(timestamp_list)->list[float]:\n",
    "\n",
    "    inicial = timestamp_list[0]\n",
    "\n",
    "    new_timestamps = [ts - inicial for ts in timestamp_list]\n",
    "\n",
    "    return [int(ts.total_seconds()) for ts in new_timestamps]\n",
    "\n",
    "df_trips['timestamps'] = df_trips['timestamps'].apply(init_on_zero)"
   ]
  },
  {
   "cell_type": "code",
   "execution_count": 16,
   "id": "d58368fd",
   "metadata": {},
   "outputs": [],
   "source": [
    "coord_t = str(df_trips.loc[0, 'coordinates'])"
   ]
  },
  {
   "cell_type": "code",
   "execution_count": 17,
   "id": "02964dc8",
   "metadata": {},
   "outputs": [
    {
     "data": {
      "text/plain": [
       "[[-46.7605565, -23.6548535],\n",
       " [-46.7600795, -23.65436375],\n",
       " [-46.757994, -23.65200325],\n",
       " [-46.75778675, -23.6517585],\n",
       " [-46.75778675, -23.6517585],\n",
       " [-46.75778675, -23.6517585],\n",
       " [-46.7542395, -23.649037],\n",
       " [-46.7526175, -23.649198],\n",
       " [-46.750743, -23.649341],\n",
       " [-46.749903, -23.6487995],\n",
       " [-46.7491555, -23.648463],\n",
       " [-46.7487645, -23.648301],\n",
       " [-46.74846225, -23.64817675]]"
      ]
     },
     "execution_count": 17,
     "metadata": {},
     "output_type": "execute_result"
    }
   ],
   "source": [
    "eval(coord_t)"
   ]
  },
  {
   "cell_type": "code",
   "execution_count": 18,
   "id": "e56a03e7",
   "metadata": {},
   "outputs": [
    {
     "data": {
      "text/plain": [
       "[0, 8, 63, 101, 101, 137, 204, 231, 276, 321, 361, 406, 435]"
      ]
     },
     "execution_count": 18,
     "metadata": {},
     "output_type": "execute_result"
    }
   ],
   "source": [
    "df_trips.loc[0, 'timestamps']"
   ]
  },
  {
   "cell_type": "code",
   "execution_count": 19,
   "id": "b7103d01",
   "metadata": {},
   "outputs": [],
   "source": [
    "df_trips = df_trips[['coordinates', 'timestamps']]"
   ]
  },
  {
   "cell_type": "code",
   "execution_count": 20,
   "id": "c7f41bdc",
   "metadata": {},
   "outputs": [
    {
     "name": "stdout",
     "output_type": "stream",
     "text": [
      "Base salva em data\\df_final.csv\n",
      "Base salva em data\\df_trips.csv\n"
     ]
    }
   ],
   "source": [
    "save_csv(df_final, 'df_final.csv')\n",
    "\n",
    "save_csv(df_trips, 'df_trips.csv')"
   ]
  }
 ],
 "metadata": {
  "kernelspec": {
   "display_name": "Python 3",
   "language": "python",
   "name": "python3"
  },
  "language_info": {
   "codemirror_mode": {
    "name": "ipython",
    "version": 3
   },
   "file_extension": ".py",
   "mimetype": "text/x-python",
   "name": "python",
   "nbconvert_exporter": "python",
   "pygments_lexer": "ipython3",
   "version": "3.12.4"
  }
 },
 "nbformat": 4,
 "nbformat_minor": 5
}
