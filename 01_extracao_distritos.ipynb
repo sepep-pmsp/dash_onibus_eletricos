{
 "cells": [
  {
   "cell_type": "markdown",
   "id": "2461fb57",
   "metadata": {},
   "source": [
    "## Extração dos distritos"
   ]
  },
  {
   "cell_type": "markdown",
   "id": "362134b5",
   "metadata": {},
   "source": [
    "Nesse notebook são extraídos os limites administrativos dos distritos da Prefeitura Municipal de São Paulo"
   ]
  },
  {
   "cell_type": "markdown",
   "id": "b96d5ccb",
   "metadata": {},
   "source": [
    "Os dados são do projeto GeoSampa da PMSP: https://geosampa.prefeitura.sp.gov.br/PaginasPublicas/_SBC.aspx"
   ]
  },
  {
   "cell_type": "code",
   "execution_count": 1,
   "id": "97a3420e",
   "metadata": {},
   "outputs": [],
   "source": [
    "import geopandas as gpd\n",
    "import requests\n",
    "from io import BytesIO\n",
    "import os\n",
    "from config import data_folder\n",
    "from utils.save_shp import save_shp"
   ]
  },
  {
   "cell_type": "code",
   "execution_count": 2,
   "id": "22378415",
   "metadata": {},
   "outputs": [],
   "source": [
    "def download_distritos():\n",
    "\n",
    "    file = os.path.join(data_folder, \"distritos.shp\")\n",
    "\n",
    "    if os.path.exists(file):\n",
    "        print(\"Retornando arquivo salvo\")\n",
    "        return gpd.read_file(file)\n",
    "\n",
    "    print(\"Carregando do GeoSampa\")\n",
    "\n",
    "    url = (\"http://wfs.geosampa.prefeitura.sp.gov.br/geoserver/geoportal/\"\n",
    "           \"wfs?version=1.0.0&request=GetFeature&output\"\n",
    "           \"Format=SHAPE-ZIP&typeName=geoportal:distrito_municipal\")\n",
    "\n",
    "    with requests.get(url) as r:\n",
    "        content = BytesIO(r.content)\n",
    "        gdf_distritos = gpd.read_file(content)\n",
    "\n",
    "    save_shp(gdf_distritos, \"distritos.shp\")\n",
    "\n",
    "    return gdf_distritos"
   ]
  },
  {
   "cell_type": "code",
   "execution_count": 3,
   "id": "cac53ef5",
   "metadata": {},
   "outputs": [
    {
     "name": "stdout",
     "output_type": "stream",
     "text": [
      "Carregando do GeoSampa\n",
      "Shapefile salvo em data\\distritos.shp\n"
     ]
    }
   ],
   "source": [
    "import warnings\n",
    "warnings.filterwarnings(\"ignore\", category = RuntimeWarning)\n",
    "\n",
    "download_distritos();"
   ]
  }
 ],
 "metadata": {
  "kernelspec": {
   "display_name": "Python 3",
   "language": "python",
   "name": "python3"
  },
  "language_info": {
   "codemirror_mode": {
    "name": "ipython",
    "version": 3
   },
   "file_extension": ".py",
   "mimetype": "text/x-python",
   "name": "python",
   "nbconvert_exporter": "python",
   "pygments_lexer": "ipython3",
   "version": "3.12.4"
  }
 },
 "nbformat": 4,
 "nbformat_minor": 5
}
